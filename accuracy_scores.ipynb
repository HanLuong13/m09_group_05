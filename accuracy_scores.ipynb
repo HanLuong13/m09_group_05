{
 "cells": [
  {
   "cell_type": "code",
   "execution_count": 1,
   "metadata": {},
   "outputs": [],
   "source": [
    "# import libraries\n",
    "import pandas as pd\n",
    "import numpy as np\n",
    "import matplotlib.pyplot as plt\n",
    "\n",
    "from sklearn.metrics import accuracy_score\n",
    "from sklearn.preprocessing import StandardScaler\n",
    "from sklearn.cluster import KMeans, AgglomerativeClustering, DBSCAN\n",
    "from sklearn.decomposition import PCA\n",
    "\n"
   ]
  },
  {
   "cell_type": "code",
   "execution_count": 2,
   "metadata": {},
   "outputs": [],
   "source": [
    "penguins_df = pd.read_csv('penguindata.csv')\n",
    "penguins_df= penguins_df[['Species','Culmen Length (mm)', 'Culmen Depth (mm)', 'Flipper Length (mm)','Body Mass (g)',\\\n",
    "    'Delta 15 N (o/oo)','Delta 13 C (o/oo)']]\n",
    "penguins_df = penguins_df.dropna()\n",
    "\n",
    "X = penguins_df._get_numeric_data().values\n",
    "y = penguins_df[['Species']]\n",
    "\n",
    "\n",
    "species = {'Adelie Penguin (Pygoscelis adeliae)': 0, 'Gentoo penguin (Pygoscelis papua)': 1, 'Chinstrap penguin (Pygoscelis antarctica)': 2}\n",
    "y = [species[item] for item in y['Species']]\n",
    "y = np.array(y) \n",
    "\n",
    "ss = StandardScaler()\n",
    "X = ss.fit_transform(X) "
   ]
  },
  {
   "cell_type": "code",
   "execution_count": 3,
   "metadata": {},
   "outputs": [
    {
     "data": {
      "image/png": "[encoded data removed]",
      "text/plain": [
       "<Figure size 792x360 with 1 Axes>"
      ]
     },
     "metadata": {
      "needs_background": "light"
     },
     "output_type": "display_data"
    }
   ],
   "source": [
    "plt.figure(figsize=(11, 5))\n",
    "plt.scatter(X[y == 0][:, 0], X[y == 0][:, 1], color='orange', label='Adelie')\n",
    "plt.scatter(X[y == 1][:, 0], X[y == 1][:, 1], color='gray', label='Gentoo')\n",
    "plt.scatter(X[y == 2][:, 0], X[y == 2][:, 1], color='black', label='Chinstrap')\n",
    "\n",
    "plt.legend();\n",
    "\n"
   ]
  },
  {
   "cell_type": "code",
   "execution_count": 4,
   "metadata": {},
   "outputs": [
    {
     "name": "stdout",
     "output_type": "stream",
     "text": [
      "0.9757575757575757\n"
     ]
    }
   ],
   "source": [
    "kmeans = KMeans(n_clusters=3, random_state=0)\n",
    "kclusters = kmeans.fit_predict(X)\n",
    "print(accuracy_score(kclusters, y))\n",
    "\n"
   ]
  },
  {
   "cell_type": "code",
   "execution_count": 5,
   "metadata": {},
   "outputs": [
    {
     "name": "stdout",
     "output_type": "stream",
     "text": [
      "0.33636363636363636\n"
     ]
    }
   ],
   "source": [
    "dbscan = DBSCAN(eps=1,min_samples=8).fit(X)\n",
    "df_result = dbscan.labels_\n",
    "# df_result = pd.DataFrame(dbscan.labels_)\n",
    "print(accuracy_score(df_result, y))"
   ]
  },
  {
   "cell_type": "code",
   "execution_count": 6,
   "metadata": {},
   "outputs": [
    {
     "name": "stdout",
     "output_type": "stream",
     "text": [
      "0.32727272727272727\n"
     ]
    }
   ],
   "source": [
    "pca = PCA(n_components=2)\n",
    "X_reduced = pca.fit_transform(X)\n",
    "X_reduced = pd.DataFrame(X_reduced)\n",
    "\n",
    "dbscan=DBSCAN(eps=.37, min_samples=9).fit(X_reduced) \n",
    "df_result = dbscan.labels_\n",
    "# df_result = pd.DataFrame(dbscan.labels_)\n",
    "print(accuracy_score(df_result, y))"
   ]
  }
 ],
 "metadata": {
  "interpreter": {
   "hash": "a25105b9da4e5c3c2f11f582b453fbebfd8480a96a3dfdf9e9e9e9c45b29cb41"
  },
  "kernelspec": {
   "display_name": "Python 3.9.7 ('base')",
   "language": "python",
   "name": "python3"
  },
  "language_info": {
   "codemirror_mode": {
    "name": "ipython",
    "version": 3
   },
   "file_extension": ".py",
   "mimetype": "text/x-python",
   "name": "python",
   "nbconvert_exporter": "python",
   "pygments_lexer": "ipython3",
   "version": "3.9.7"
  },
  "orig_nbformat": 4
 },
 "nbformat": 4,
 "nbformat_minor": 2
}
