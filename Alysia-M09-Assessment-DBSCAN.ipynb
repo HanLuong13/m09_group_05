{
 "cells": [
  {
   "cell_type": "code",
   "execution_count": 1,
   "id": "f4a4dc23",
   "metadata": {},
   "outputs": [],
   "source": [
    "import pandas as pd\n",
    "from sklearn.cluster import DBSCAN\n",
    "from sklearn.preprocessing import StandardScaler\n",
    "import matplotlib.pyplot as plt\n",
    "import seaborn as sns\n",
    "import numpy as np"
   ]
  },
  {
   "cell_type": "code",
   "execution_count": 2,
   "id": "ff5294a1",
   "metadata": {},
   "outputs": [],
   "source": [
    "# import dataset\n",
    "data = pd.read_csv('2021-11-ml-09-k-means-animals-dataset.csv')"
   ]
  },
  {
   "cell_type": "code",
   "execution_count": 3,
   "id": "b0cddfdc",
   "metadata": {},
   "outputs": [
    {
     "data": {
      "text/html": [
       "<div>\n",
       "<style scoped>\n",
       "    .dataframe tbody tr th:only-of-type {\n",
       "        vertical-align: middle;\n",
       "    }\n",
       "\n",
       "    .dataframe tbody tr th {\n",
       "        vertical-align: top;\n",
       "    }\n",
       "\n",
       "    .dataframe thead th {\n",
       "        text-align: right;\n",
       "    }\n",
       "</style>\n",
       "<table border=\"1\" class=\"dataframe\">\n",
       "  <thead>\n",
       "    <tr style=\"text-align: right;\">\n",
       "      <th></th>\n",
       "      <th>Culmen Length (mm)</th>\n",
       "      <th>Culmen Depth (mm)</th>\n",
       "      <th>Flipper Length (mm)</th>\n",
       "      <th>Body Mass (g)</th>\n",
       "      <th>Delta 15 N (o/oo)</th>\n",
       "      <th>Delta 13 C (o/oo)</th>\n",
       "    </tr>\n",
       "  </thead>\n",
       "  <tbody>\n",
       "    <tr>\n",
       "      <th>1</th>\n",
       "      <td>39.5</td>\n",
       "      <td>17.4</td>\n",
       "      <td>186.0</td>\n",
       "      <td>3800.0</td>\n",
       "      <td>8.94956</td>\n",
       "      <td>-24.69454</td>\n",
       "    </tr>\n",
       "    <tr>\n",
       "      <th>2</th>\n",
       "      <td>40.3</td>\n",
       "      <td>18.0</td>\n",
       "      <td>195.0</td>\n",
       "      <td>3250.0</td>\n",
       "      <td>8.36821</td>\n",
       "      <td>-25.33302</td>\n",
       "    </tr>\n",
       "    <tr>\n",
       "      <th>4</th>\n",
       "      <td>36.7</td>\n",
       "      <td>19.3</td>\n",
       "      <td>193.0</td>\n",
       "      <td>3450.0</td>\n",
       "      <td>8.76651</td>\n",
       "      <td>-25.32426</td>\n",
       "    </tr>\n",
       "    <tr>\n",
       "      <th>5</th>\n",
       "      <td>39.3</td>\n",
       "      <td>20.6</td>\n",
       "      <td>190.0</td>\n",
       "      <td>3650.0</td>\n",
       "      <td>8.66496</td>\n",
       "      <td>-25.29805</td>\n",
       "    </tr>\n",
       "    <tr>\n",
       "      <th>6</th>\n",
       "      <td>38.9</td>\n",
       "      <td>17.8</td>\n",
       "      <td>181.0</td>\n",
       "      <td>3625.0</td>\n",
       "      <td>9.18718</td>\n",
       "      <td>-25.21799</td>\n",
       "    </tr>\n",
       "  </tbody>\n",
       "</table>\n",
       "</div>"
      ],
      "text/plain": [
       "   Culmen Length (mm)  Culmen Depth (mm)  Flipper Length (mm)  Body Mass (g)  \\\n",
       "1                39.5               17.4                186.0         3800.0   \n",
       "2                40.3               18.0                195.0         3250.0   \n",
       "4                36.7               19.3                193.0         3450.0   \n",
       "5                39.3               20.6                190.0         3650.0   \n",
       "6                38.9               17.8                181.0         3625.0   \n",
       "\n",
       "   Delta 15 N (o/oo)  Delta 13 C (o/oo)  \n",
       "1            8.94956          -24.69454  \n",
       "2            8.36821          -25.33302  \n",
       "4            8.76651          -25.32426  \n",
       "5            8.66496          -25.29805  \n",
       "6            9.18718          -25.21799  "
      ]
     },
     "execution_count": 3,
     "metadata": {},
     "output_type": "execute_result"
    }
   ],
   "source": [
    "# view dataset\n",
    "data.head(5)\n",
    "# change comments column to int and drop nulls\n",
    "data.drop(['Region', 'Stage', 'Individual ID', 'Comments'], axis=1, inplace=True)\n",
    "# drop nulls\n",
    "data.dropna(inplace=True)\n",
    "# review dataset\n",
    "data.head(5)"
   ]
  },
  {
   "cell_type": "code",
   "execution_count": 4,
   "id": "8bad1618",
   "metadata": {},
   "outputs": [],
   "source": [
    "# standardize data, ETL\n",
    "data_std = pd.DataFrame(StandardScaler().fit_transform(data))"
   ]
  },
  {
   "cell_type": "code",
   "execution_count": 5,
   "id": "143ff88a",
   "metadata": {},
   "outputs": [],
   "source": [
    "# copy over columns\n",
    "data_std.columns = data.columns"
   ]
  },
  {
   "cell_type": "code",
   "execution_count": 6,
   "id": "50a7a2c4",
   "metadata": {},
   "outputs": [
    {
     "data": {
      "text/html": [
       "<div>\n",
       "<style scoped>\n",
       "    .dataframe tbody tr th:only-of-type {\n",
       "        vertical-align: middle;\n",
       "    }\n",
       "\n",
       "    .dataframe tbody tr th {\n",
       "        vertical-align: top;\n",
       "    }\n",
       "\n",
       "    .dataframe thead th {\n",
       "        text-align: right;\n",
       "    }\n",
       "</style>\n",
       "<table border=\"1\" class=\"dataframe\">\n",
       "  <thead>\n",
       "    <tr style=\"text-align: right;\">\n",
       "      <th></th>\n",
       "      <th>Culmen Length (mm)</th>\n",
       "      <th>Culmen Depth (mm)</th>\n",
       "      <th>Flipper Length (mm)</th>\n",
       "      <th>Body Mass (g)</th>\n",
       "      <th>Delta 15 N (o/oo)</th>\n",
       "      <th>Delta 13 C (o/oo)</th>\n",
       "    </tr>\n",
       "  </thead>\n",
       "  <tbody>\n",
       "    <tr>\n",
       "      <th>0</th>\n",
       "      <td>-0.836108</td>\n",
       "      <td>0.149089</td>\n",
       "      <td>-1.098327</td>\n",
       "      <td>-0.517252</td>\n",
       "      <td>0.392385</td>\n",
       "      <td>1.267428</td>\n",
       "    </tr>\n",
       "    <tr>\n",
       "      <th>1</th>\n",
       "      <td>-0.689012</td>\n",
       "      <td>0.452790</td>\n",
       "      <td>-0.452764</td>\n",
       "      <td>-1.201393</td>\n",
       "      <td>-0.662823</td>\n",
       "      <td>0.456176</td>\n",
       "    </tr>\n",
       "    <tr>\n",
       "      <th>2</th>\n",
       "      <td>-1.350945</td>\n",
       "      <td>1.110807</td>\n",
       "      <td>-0.596222</td>\n",
       "      <td>-0.952614</td>\n",
       "      <td>0.060131</td>\n",
       "      <td>0.467307</td>\n",
       "    </tr>\n",
       "    <tr>\n",
       "      <th>3</th>\n",
       "      <td>-0.872882</td>\n",
       "      <td>1.768824</td>\n",
       "      <td>-0.811410</td>\n",
       "      <td>-0.703836</td>\n",
       "      <td>-0.124192</td>\n",
       "      <td>0.500609</td>\n",
       "    </tr>\n",
       "    <tr>\n",
       "      <th>4</th>\n",
       "      <td>-0.946430</td>\n",
       "      <td>0.351556</td>\n",
       "      <td>-1.456974</td>\n",
       "      <td>-0.734933</td>\n",
       "      <td>0.823690</td>\n",
       "      <td>0.602333</td>\n",
       "    </tr>\n",
       "  </tbody>\n",
       "</table>\n",
       "</div>"
      ],
      "text/plain": [
       "   Culmen Length (mm)  Culmen Depth (mm)  Flipper Length (mm)  Body Mass (g)  \\\n",
       "0           -0.836108           0.149089            -1.098327      -0.517252   \n",
       "1           -0.689012           0.452790            -0.452764      -1.201393   \n",
       "2           -1.350945           1.110807            -0.596222      -0.952614   \n",
       "3           -0.872882           1.768824            -0.811410      -0.703836   \n",
       "4           -0.946430           0.351556            -1.456974      -0.734933   \n",
       "\n",
       "   Delta 15 N (o/oo)  Delta 13 C (o/oo)  \n",
       "0           0.392385           1.267428  \n",
       "1          -0.662823           0.456176  \n",
       "2           0.060131           0.467307  \n",
       "3          -0.124192           0.500609  \n",
       "4           0.823690           0.602333  "
      ]
     },
     "execution_count": 6,
     "metadata": {},
     "output_type": "execute_result"
    }
   ],
   "source": [
    "#view standardized data frame\n",
    "data_std.head()"
   ]
  },
  {
   "cell_type": "code",
   "execution_count": 7,
   "id": "a92fd593",
   "metadata": {},
   "outputs": [
    {
     "data": {
      "text/html": [
       "<div>\n",
       "<style scoped>\n",
       "    .dataframe tbody tr th:only-of-type {\n",
       "        vertical-align: middle;\n",
       "    }\n",
       "\n",
       "    .dataframe tbody tr th {\n",
       "        vertical-align: top;\n",
       "    }\n",
       "\n",
       "    .dataframe thead th {\n",
       "        text-align: right;\n",
       "    }\n",
       "</style>\n",
       "<table border=\"1\" class=\"dataframe\">\n",
       "  <thead>\n",
       "    <tr style=\"text-align: right;\">\n",
       "      <th></th>\n",
       "      <th>Culmen Length (mm)</th>\n",
       "      <th>Culmen Depth (mm)</th>\n",
       "      <th>Flipper Length (mm)</th>\n",
       "      <th>Body Mass (g)</th>\n",
       "      <th>Delta 15 N (o/oo)</th>\n",
       "      <th>Delta 13 C (o/oo)</th>\n",
       "    </tr>\n",
       "  </thead>\n",
       "  <tbody>\n",
       "    <tr>\n",
       "      <th>Culmen Length (mm)</th>\n",
       "      <td>1.000000</td>\n",
       "      <td>-0.225939</td>\n",
       "      <td>0.649178</td>\n",
       "      <td>0.593411</td>\n",
       "      <td>-0.059759</td>\n",
       "      <td>0.180734</td>\n",
       "    </tr>\n",
       "    <tr>\n",
       "      <th>Culmen Depth (mm)</th>\n",
       "      <td>-0.225939</td>\n",
       "      <td>1.000000</td>\n",
       "      <td>-0.581073</td>\n",
       "      <td>-0.467746</td>\n",
       "      <td>0.605874</td>\n",
       "      <td>0.425820</td>\n",
       "    </tr>\n",
       "    <tr>\n",
       "      <th>Flipper Length (mm)</th>\n",
       "      <td>0.649178</td>\n",
       "      <td>-0.581073</td>\n",
       "      <td>1.000000</td>\n",
       "      <td>0.874801</td>\n",
       "      <td>-0.507787</td>\n",
       "      <td>-0.382059</td>\n",
       "    </tr>\n",
       "    <tr>\n",
       "      <th>Body Mass (g)</th>\n",
       "      <td>0.593411</td>\n",
       "      <td>-0.467746</td>\n",
       "      <td>0.874801</td>\n",
       "      <td>1.000000</td>\n",
       "      <td>-0.537888</td>\n",
       "      <td>-0.375582</td>\n",
       "    </tr>\n",
       "    <tr>\n",
       "      <th>Delta 15 N (o/oo)</th>\n",
       "      <td>-0.059759</td>\n",
       "      <td>0.605874</td>\n",
       "      <td>-0.507787</td>\n",
       "      <td>-0.537888</td>\n",
       "      <td>1.000000</td>\n",
       "      <td>0.570615</td>\n",
       "    </tr>\n",
       "    <tr>\n",
       "      <th>Delta 13 C (o/oo)</th>\n",
       "      <td>0.180734</td>\n",
       "      <td>0.425820</td>\n",
       "      <td>-0.382059</td>\n",
       "      <td>-0.375582</td>\n",
       "      <td>0.570615</td>\n",
       "      <td>1.000000</td>\n",
       "    </tr>\n",
       "  </tbody>\n",
       "</table>\n",
       "</div>"
      ],
      "text/plain": [
       "                     Culmen Length (mm)  Culmen Depth (mm)  \\\n",
       "Culmen Length (mm)             1.000000          -0.225939   \n",
       "Culmen Depth (mm)             -0.225939           1.000000   \n",
       "Flipper Length (mm)            0.649178          -0.581073   \n",
       "Body Mass (g)                  0.593411          -0.467746   \n",
       "Delta 15 N (o/oo)             -0.059759           0.605874   \n",
       "Delta 13 C (o/oo)              0.180734           0.425820   \n",
       "\n",
       "                     Flipper Length (mm)  Body Mass (g)  Delta 15 N (o/oo)  \\\n",
       "Culmen Length (mm)              0.649178       0.593411          -0.059759   \n",
       "Culmen Depth (mm)              -0.581073      -0.467746           0.605874   \n",
       "Flipper Length (mm)             1.000000       0.874801          -0.507787   \n",
       "Body Mass (g)                   0.874801       1.000000          -0.537888   \n",
       "Delta 15 N (o/oo)              -0.507787      -0.537888           1.000000   \n",
       "Delta 13 C (o/oo)              -0.382059      -0.375582           0.570615   \n",
       "\n",
       "                     Delta 13 C (o/oo)  \n",
       "Culmen Length (mm)            0.180734  \n",
       "Culmen Depth (mm)             0.425820  \n",
       "Flipper Length (mm)          -0.382059  \n",
       "Body Mass (g)                -0.375582  \n",
       "Delta 15 N (o/oo)             0.570615  \n",
       "Delta 13 C (o/oo)             1.000000  "
      ]
     },
     "execution_count": 7,
     "metadata": {},
     "output_type": "execute_result"
    }
   ],
   "source": [
    "# investigate correlations in dataset\n",
    "data_std.corr()"
   ]
  },
  {
   "cell_type": "code",
   "execution_count": 8,
   "id": "f8cd3203",
   "metadata": {},
   "outputs": [],
   "source": [
    "# flipper length and body mass\n",
    "x = data_std['Body Mass (g)']\n",
    "y = data_std['Flipper Length (mm)']"
   ]
  },
  {
   "cell_type": "code",
   "execution_count": 9,
   "id": "4b3ba679",
   "metadata": {},
   "outputs": [
    {
     "data": {
      "image/png": "[encoded data removed]",
      "text/plain": [
       "<Figure size 432x288 with 1 Axes>"
      ]
     },
     "metadata": {
      "needs_background": "light"
     },
     "output_type": "display_data"
    }
   ],
   "source": [
    "# create plot\n",
    "ax = sns.scatterplot(x=x, y=y)\n",
    "ax.set_xlabel('Body Mass (g)')\n",
    "ax.set_ylabel('Flipper Length (mm)')\n",
    "ax.set_title('Flipper Length vs. Body Mass')\n",
    "plt.show()"
   ]
  },
  {
   "cell_type": "code",
   "execution_count": 17,
   "id": "43d7aa3b",
   "metadata": {},
   "outputs": [
    {
     "name": "stdout",
     "output_type": "stream",
     "text": [
      "[-1 -1  0 -1  0 -1 -1  0 -1  0 -1  0 -1 -1 -1 -1 -1 -1 -1  0 -1 -1 -1 -1\n",
      " -1 -1  0  0 -1 -1 -1 -1 -1 -1 -1 -1 -1 -1 -1  0  0  0  0  0  0  0  0  0\n",
      "  0  0  0  0  0  0  0  0  0  0  0 -1  0  0  0  0  0  0  0 -1  0 -1  0 -1\n",
      "  0  0  0  0  0  0  0 -1  0 -1  0  0  0  0  0  0  0  0  0  0 -1  0  0  0\n",
      " -1 -1 -1 -1  0  0  0  0  0  0 -1 -1  0  0  0  0 -1  0  0  0  0  0  0  0\n",
      "  0  0  0  0  0  0  0  0  0  0  0 -1  0  0  0  0  0  0  0  0  0  1  1  1\n",
      "  1  1  1 -1 -1 -1 -1  1 -1  1  1  1  1  1 -1  1  1  1  1 -1  1  1  1 -1\n",
      "  1  1  1 -1 -1  1  1  1 -1  1 -1 -1 -1  1  1  1  1  1  1  1 -1  1  1  1\n",
      "  1  1  1  1  1  1  1  1  1  1  1 -1  1  1  1  1  2  2  2  2  2  2  2  2\n",
      "  2  2  2  2  2  2  2  2  2  2  2  2  2  2  2  2  2  2  2  2  2  2  2  2\n",
      " -1  2  2  2 -1  2 -1  2  2  2  2  2  2  2  2  2  2  2  2  2  2  2  2  2\n",
      "  2  2  2  2  2  2  2  2  2  2  2  2  2  2  2  2  2  2  2  2  2  2  2  2\n",
      "  2  2  2  2  2  2  2  2  2  2  2  2 -1  2  2  2  2  2  2  2  2  2  2  2\n",
      "  2  2  2  2  2  2  2  2 -1  2  2  2  2  2  2  2  2  2]\n"
     ]
    }
   ],
   "source": [
    "# create clusters\n",
    "clustering = DBSCAN(eps=1, min_samples=12).fit(data_std)\n",
    "\n",
    "labelsList = ['Noise']\n",
    "labelsList = labelsList + ['Cluster ' + str(i) for i in range(1,len(set(clustering.labels_)))]\n",
    "\n",
    "data_std['clusters'] = clustering.labels_\n",
    "\n",
    "print(clusters)"
   ]
  },
  {
   "cell_type": "code",
   "execution_count": 22,
   "id": "224c504c",
   "metadata": {},
   "outputs": [
    {
     "data": {
      "image/png": "[encoded data removed]",
      "text/plain": [
       "<Figure size 432x288 with 1 Axes>"
      ]
     },
     "metadata": {
      "needs_background": "light"
     },
     "output_type": "display_data"
    }
   ],
   "source": [
    "# create dbscan plot\n",
    "dbs_df = data_std\n",
    "dbs_df['Cluster'] = clusters\n",
    "u_label = np.unique(clusters)\n",
    "\n",
    "for i in u_label:\n",
    "    temp_df = dbs_df[dbs_df['Cluster'] == i]\n",
    "    ax = sns.scatterplot(x=temp_df['Body Mass (g)'], y=temp_df['Flipper Length (mm)'])\n",
    "    ax.set(title='Flipper Length vs. Body Mass, DBSCAN Clusters')\n",
    "    "
   ]
  },
  {
   "cell_type": "code",
   "execution_count": 14,
   "id": "ec43b6a0",
   "metadata": {},
   "outputs": [
    {
     "ename": "AttributeError",
     "evalue": "'numpy.ndarray' object has no attribute 'loc'",
     "output_type": "error",
     "traceback": [
      "\u001b[1;31m---------------------------------------------------------------------------\u001b[0m",
      "\u001b[1;31mAttributeError\u001b[0m                            Traceback (most recent call last)",
      "\u001b[1;32m~\\AppData\\Local\\Temp/ipykernel_27484/745016343.py\u001b[0m in \u001b[0;36m<module>\u001b[1;34m\u001b[0m\n\u001b[0;32m      1\u001b[0m \u001b[1;31m# silouette score\u001b[0m\u001b[1;33m\u001b[0m\u001b[1;33m\u001b[0m\u001b[0m\n\u001b[1;32m----> 2\u001b[1;33m \u001b[0mdbs_clustered\u001b[0m \u001b[1;33m=\u001b[0m \u001b[0mclusters\u001b[0m\u001b[1;33m.\u001b[0m\u001b[0mloc\u001b[0m\u001b[1;33m[\u001b[0m\u001b[1;33m(\u001b[0m\u001b[0mclusters\u001b[0m \u001b[1;33m>=\u001b[0m \u001b[1;36m0\u001b[0m\u001b[1;33m)\u001b[0m\u001b[1;33m]\u001b[0m\u001b[1;33m\u001b[0m\u001b[1;33m\u001b[0m\u001b[0m\n\u001b[0m\u001b[0;32m      3\u001b[0m \u001b[1;33m\u001b[0m\u001b[0m\n\u001b[0;32m      4\u001b[0m \u001b[0msilhouette_score\u001b[0m\u001b[1;33m(\u001b[0m\u001b[0mdbs_clustered\u001b[0m\u001b[1;33m[\u001b[0m\u001b[1;33m[\u001b[0m\u001b[1;34m\"x\"\u001b[0m\u001b[1;33m,\u001b[0m \u001b[1;34m\"y\"\u001b[0m\u001b[1;33m]\u001b[0m\u001b[1;33m]\u001b[0m\u001b[1;33m,\u001b[0m \u001b[0mdbs_clustered\u001b[0m\u001b[1;33m[\u001b[0m\u001b[1;33m[\u001b[0m\u001b[1;34m\"clusters\"\u001b[0m\u001b[1;33m]\u001b[0m\u001b[1;33m]\u001b[0m\u001b[1;33m)\u001b[0m\u001b[1;33m\u001b[0m\u001b[1;33m\u001b[0m\u001b[0m\n",
      "\u001b[1;31mAttributeError\u001b[0m: 'numpy.ndarray' object has no attribute 'loc'"
     ]
    }
   ],
   "source": [
    "# silouette score\n",
    "dbs_clustered = clusters.loc[(clusters >= 0)]\n",
    "\n",
    "silhouette_score(dbs_clustered[[\"x\", \"y\"]], dbs_clustered[[\"clusters\"]])"
   ]
  },
  {
   "cell_type": "markdown",
   "id": "80006e9b",
   "metadata": {},
   "source": [
    "## Kmeans"
   ]
  },
  {
   "cell_type": "code",
   "execution_count": 12,
   "id": "cba25442",
   "metadata": {},
   "outputs": [],
   "source": [
    "# import dataset\n",
    "df = pd.read_csv('2021-11-ml-09-k-means-animals-dataset.csv')"
   ]
  },
  {
   "cell_type": "code",
   "execution_count": 13,
   "id": "b2a317c8",
   "metadata": {},
   "outputs": [
    {
     "data": {
      "text/html": [
       "<div>\n",
       "<style scoped>\n",
       "    .dataframe tbody tr th:only-of-type {\n",
       "        vertical-align: middle;\n",
       "    }\n",
       "\n",
       "    .dataframe tbody tr th {\n",
       "        vertical-align: top;\n",
       "    }\n",
       "\n",
       "    .dataframe thead th {\n",
       "        text-align: right;\n",
       "    }\n",
       "</style>\n",
       "<table border=\"1\" class=\"dataframe\">\n",
       "  <thead>\n",
       "    <tr style=\"text-align: right;\">\n",
       "      <th></th>\n",
       "      <th>Culmen Length (mm)</th>\n",
       "      <th>Culmen Depth (mm)</th>\n",
       "      <th>Flipper Length (mm)</th>\n",
       "      <th>Body Mass (g)</th>\n",
       "      <th>Delta 15 N (o/oo)</th>\n",
       "      <th>Delta 13 C (o/oo)</th>\n",
       "    </tr>\n",
       "  </thead>\n",
       "  <tbody>\n",
       "    <tr>\n",
       "      <th>1</th>\n",
       "      <td>39.5</td>\n",
       "      <td>17.4</td>\n",
       "      <td>186.0</td>\n",
       "      <td>3800.0</td>\n",
       "      <td>8.94956</td>\n",
       "      <td>-24.69454</td>\n",
       "    </tr>\n",
       "    <tr>\n",
       "      <th>2</th>\n",
       "      <td>40.3</td>\n",
       "      <td>18.0</td>\n",
       "      <td>195.0</td>\n",
       "      <td>3250.0</td>\n",
       "      <td>8.36821</td>\n",
       "      <td>-25.33302</td>\n",
       "    </tr>\n",
       "    <tr>\n",
       "      <th>4</th>\n",
       "      <td>36.7</td>\n",
       "      <td>19.3</td>\n",
       "      <td>193.0</td>\n",
       "      <td>3450.0</td>\n",
       "      <td>8.76651</td>\n",
       "      <td>-25.32426</td>\n",
       "    </tr>\n",
       "    <tr>\n",
       "      <th>5</th>\n",
       "      <td>39.3</td>\n",
       "      <td>20.6</td>\n",
       "      <td>190.0</td>\n",
       "      <td>3650.0</td>\n",
       "      <td>8.66496</td>\n",
       "      <td>-25.29805</td>\n",
       "    </tr>\n",
       "    <tr>\n",
       "      <th>6</th>\n",
       "      <td>38.9</td>\n",
       "      <td>17.8</td>\n",
       "      <td>181.0</td>\n",
       "      <td>3625.0</td>\n",
       "      <td>9.18718</td>\n",
       "      <td>-25.21799</td>\n",
       "    </tr>\n",
       "  </tbody>\n",
       "</table>\n",
       "</div>"
      ],
      "text/plain": [
       "   Culmen Length (mm)  Culmen Depth (mm)  Flipper Length (mm)  Body Mass (g)  \\\n",
       "1                39.5               17.4                186.0         3800.0   \n",
       "2                40.3               18.0                195.0         3250.0   \n",
       "4                36.7               19.3                193.0         3450.0   \n",
       "5                39.3               20.6                190.0         3650.0   \n",
       "6                38.9               17.8                181.0         3625.0   \n",
       "\n",
       "   Delta 15 N (o/oo)  Delta 13 C (o/oo)  \n",
       "1            8.94956          -24.69454  \n",
       "2            8.36821          -25.33302  \n",
       "4            8.76651          -25.32426  \n",
       "5            8.66496          -25.29805  \n",
       "6            9.18718          -25.21799  "
      ]
     },
     "execution_count": 13,
     "metadata": {},
     "output_type": "execute_result"
    }
   ],
   "source": [
    "# view dataset\n",
    "df.head(5)\n",
    "# change comments column to int and drop nulls\n",
    "df.drop(['Region', 'Stage', 'Individual ID', 'Comments'], axis=1, inplace=True)\n",
    "# drop nulls\n",
    "df.dropna(inplace=True)\n",
    "# review dataset\n",
    "df.head(5)"
   ]
  },
  {
   "cell_type": "code",
   "execution_count": null,
   "id": "81fa280c",
   "metadata": {},
   "outputs": [],
   "source": []
  }
 ],
 "metadata": {
  "kernelspec": {
   "display_name": "Python 3 (ipykernel)",
   "language": "python",
   "name": "python3"
  },
  "language_info": {
   "codemirror_mode": {
    "name": "ipython",
    "version": 3
   },
   "file_extension": ".py",
   "mimetype": "text/x-python",
   "name": "python",
   "nbconvert_exporter": "python",
   "pygments_lexer": "ipython3",
   "version": "3.9.7"
  }
 },
 "nbformat": 4,
 "nbformat_minor": 5
}
