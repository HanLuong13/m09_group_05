{
 "cells": [
  {
   "cell_type": "code",
   "execution_count": 1,
   "metadata": {},
   "outputs": [],
   "source": [
    "# Basic Random Forest Classfication Model\n",
    "\n",
    "# Importing libraries\n",
    "import numpy as np\n",
    "import matplotlib.pyplot as plt\n",
    "import pandas as pd\n",
    "\n",
    "# Loading the diabetes dataset\n",
    "dataset = pd.read_csv('diabetes.csv')\n",
    "\n",
    "# Setting the features and label\n",
    "X = dataset.drop(columns='Outcome')\n",
    "y = dataset['Outcome']\n",
    "\n",
    "# Splitting the data into Training Set and Test Set\n",
    "from sklearn.model_selection import train_test_split\n",
    "X_train, X_test, y_train, y_test = train_test_split(X,y,test_size=0.30,random_state=0)\n",
    "\n",
    "# Fitting Classifier to Training Set. Create a classifier object here and call it clf\n",
    "from sklearn.ensemble import RandomForestClassifier\n",
    "clf = RandomForestClassifier(criterion='entropy')\n",
    "\n",
    "# Some potential hyperparameters below, more in documentation\n",
    "# clf = RandomForestClassifier(n_estimators=100, max_depth=None, min_samples_split=2, min_samples_leaf=1, max_features=\"auto\", bootstrap=True)\n",
    "\n",
    "clf.fit(X_train,y_train)\n",
    "\n",
    "# Making predictions on the Test Set\n",
    "y_pred = clf.predict(X_test)\n",
    "\n",
    "# Evaluating the predictions using a Confusion Matrix\n",
    "from sklearn.metrics import confusion_matrix\n",
    "cm = confusion_matrix(y_test, y_pred)\n",
    "\n"
   ]
  },
  {
   "cell_type": "code",
   "execution_count": 2,
   "metadata": {},
   "outputs": [
    {
     "data": {
      "text/plain": [
       "array([[141,  16],\n",
       "       [ 32,  42]], dtype=int64)"
      ]
     },
     "execution_count": 2,
     "metadata": {},
     "output_type": "execute_result"
    }
   ],
   "source": [
    "# Printing confusion matrix to see True Positive, False Negative, False Positive, True Negative\n",
    "cm"
   ]
  }
 ],
 "metadata": {
  "interpreter": {
   "hash": "a25105b9da4e5c3c2f11f582b453fbebfd8480a96a3dfdf9e9e9e9c45b29cb41"
  },
  "kernelspec": {
   "display_name": "Python 3.9.7 ('base')",
   "language": "python",
   "name": "python3"
  },
  "language_info": {
   "codemirror_mode": {
    "name": "ipython",
    "version": 3
   },
   "file_extension": ".py",
   "mimetype": "text/x-python",
   "name": "python",
   "nbconvert_exporter": "python",
   "pygments_lexer": "ipython3",
   "version": "3.9.7"
  },
  "orig_nbformat": 4
 },
 "nbformat": 4,
 "nbformat_minor": 2
}
